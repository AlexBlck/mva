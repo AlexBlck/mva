{
 "cells": [
  {
   "cell_type": "code",
   "execution_count": 2,
   "metadata": {
    "id": "J0AaUrkZg4rG",
    "colab_type": "code",
    "colab": {}
   },
   "outputs": [],
   "source": [
    "import numpy as np\n",
    "from numpy.random import normal\n",
    "import matplotlib.pyplot as plt\n",
    "import pandas as pd"
   ]
  },
  {
   "cell_type": "code",
   "execution_count": 3,
   "metadata": {
    "id": "KYy-0ecImWcv",
    "colab_type": "code",
    "colab": {}
   },
   "outputs": [],
   "source": [
    "class Gaussian:\n",
    "    def __init__(self, mean, std, points=1000):\n",
    "        self.mean = mean\n",
    "        self.std = std\n",
    "        self.xmin = mean - 4 * std\n",
    "        self.xmax = mean + 4 * std\n",
    "        self.delx = self.xmax - self.xmin\n",
    "        self.points = points\n",
    "        self.step = self.delx / points\n",
    "        self.x = [x for x in np.arange(self.xmin, self.xmax, self.step)]\n",
    "        self.y = [self.nd(x, mean, std) for x in self.x]\n",
    "\n",
    "    def nd(self, x, mean, std):\n",
    "        return (1 / (std * np.sqrt(2 * np.pi))) * np.e ** (((x - mean) ** 2) / (-2 * std ** 2))\n",
    "\n",
    "    def plot(self):\n",
    "        plt.plot(self.x, self.y)\n",
    "\n",
    "    def __add__(self, other):\n",
    "        xmin = min(self.xmin, other.xmin)\n",
    "        xmax = max(self.xmax, other.xmax)\n",
    "        delx = xmax - xmin\n",
    "        step = delx / (self.points + other.points)\n",
    "        x = [x for x in np.arange(xmin, xmax, step)]\n",
    "        y = [self.nd(y, self.mean, self.std) + self.nd(y, other.mean, other.std) for y in x]\n",
    "        return x, y\n"
   ]
  },
  {
   "cell_type": "code",
   "execution_count": 4,
   "metadata": {
    "id": "HR8y7fMqohz9",
    "colab_type": "code",
    "colab": {}
   },
   "outputs": [],
   "source": [
    "background = Gaussian(10, 2, 1000)\n",
    "signal = Gaussian(15, 5, 1000)"
   ]
  },
  {
   "cell_type": "code",
   "execution_count": 5,
   "metadata": {
    "id": "nbLj0tSXonF1",
    "colab_type": "code",
    "colab": {
     "base_uri": "https://localhost:8080/",
     "height": 347.0
    },
    "outputId": "1d0dd520-45fe-4d3a-b260-3e4fdf806229"
   },
   "outputs": [
    {
     "data": {
      "image/png": "[encoded data removed]",
      "text/plain": [
       "<Figure size 432x288 with 1 Axes>"
      ]
     },
     "metadata": {},
     "output_type": "display_data"
    }
   ],
   "source": [
    "background.plot()\n",
    "signal.plot()"
   ]
  },
  {
   "cell_type": "code",
   "execution_count": 6,
   "metadata": {
    "id": "F8vpvTR_oobl",
    "colab_type": "code",
    "colab": {
     "base_uri": "https://localhost:8080/",
     "height": 364.0
    },
    "outputId": "b8014257-c428-43e4-dea3-dca1aae2c929"
   },
   "outputs": [
    {
     "data": {
      "text/plain": [
       "[<matplotlib.lines.Line2D at 0x7f1c3c512400>]"
      ]
     },
     "execution_count": 6,
     "metadata": {},
     "output_type": "execute_result"
    },
    {
     "data": {
      "image/png": "[encoded data removed]",
      "text/plain": [
       "<Figure size 432x288 with 1 Axes>"
      ]
     },
     "metadata": {},
     "output_type": "display_data"
    }
   ],
   "source": [
    "x, y = background + signal\n",
    "plt.plot(x, y)"
   ]
  },
  {
   "cell_type": "code",
   "execution_count": 10,
   "metadata": {
    "id": "FaV4XSMS1O2v",
    "colab_type": "code",
    "colab": {}
   },
   "outputs": [
    {
     "ename": "SyntaxError",
     "evalue": "invalid syntax (<ipython-input-10-cfe0c20de735>, line 7)",
     "traceback": [
      "\u001b[0;36m  File \u001b[0;32m\"<ipython-input-10-cfe0c20de735>\"\u001b[0;36m, line \u001b[0;32m7\u001b[0m\n\u001b[0;31m    f_a = y[]\u001b[0m\n\u001b[0m            ^\u001b[0m\n\u001b[0;31mSyntaxError\u001b[0m\u001b[0;31m:\u001b[0m invalid syntax\n"
     ],
     "output_type": "error"
    }
   ],
   "source": [
    "def bisection(x, y, thresh=2):\n",
    "  a = int(x[0])\n",
    "  b = int(x[-1])\n",
    "  print(a, b)\n",
    "  while (b - a) > thresh:\n",
    "    \n",
    "    f_a = y[]\n",
    "    f_b = y[b]\n",
    "    \n",
    "    m = int((a + b) / 2)\n",
    "    f_m = y[m]\n",
    "\n",
    "    l = int((a + m) / 2)\n",
    "    f_l = y[l]\n",
    "\n",
    "    r = int((b + m) / 2)\n",
    "    f_r = y[r]\n",
    "\n",
    "    maximum = max(f_a, f_b, f_m, f_l, f_r)\n",
    "\n",
    "    if maximum == f_a or maximum == f_l:\n",
    "      b = m\n",
    "    elif maximum == f_b or maximum == f_r:\n",
    "      a = m\n",
    "    else:\n",
    "      a = l\n",
    "      b = r\n",
    "    print(a, b)\n",
    "  return m"
   ]
  },
  {
   "cell_type": "code",
   "execution_count": 11,
   "metadata": {
    "id": "WSphOPPd4FGm",
    "colab_type": "code",
    "colab": {
     "base_uri": "https://localhost:8080/",
     "height": 299.0
    },
    "outputId": "d7f63063-2b27-4523-ace0-52c75329242f"
   },
   "outputs": [
    {
     "ename": "NameError",
     "evalue": "name 'bisection' is not defined",
     "traceback": [
      "\u001b[0;31m---------------------------------------------------------------------------\u001b[0m",
      "\u001b[0;31mNameError\u001b[0m                                 Traceback (most recent call last)",
      "\u001b[0;32m<ipython-input-11-c9e691d5fa57>\u001b[0m in \u001b[0;36m<module>\u001b[0;34m()\u001b[0m\n\u001b[0;32m----> 1\u001b[0;31m \u001b[0mbisection\u001b[0m\u001b[0;34m(\u001b[0m\u001b[0mx\u001b[0m\u001b[0;34m,\u001b[0m \u001b[0my\u001b[0m\u001b[0;34m)\u001b[0m\u001b[0;34m\u001b[0m\u001b[0m\n\u001b[0m",
      "\u001b[0;31mNameError\u001b[0m: name 'bisection' is not defined"
     ],
     "output_type": "error"
    }
   ],
   "source": [
    "bisection(x, y)"
   ]
  },
  {
   "cell_type": "code",
   "execution_count": 9,
   "metadata": {
    "id": "SGj73l-u-R6-",
    "colab_type": "code",
    "colab": {
     "base_uri": "https://localhost:8080/",
     "height": 231.0
    },
    "outputId": "9041bfac-dfc3-4a1c-e8ec-a5f157fd967c"
   },
   "outputs": [
    {
     "name": "stdout",
     "output_type": "stream",
     "text": [
      "-5 34\n14.5\n"
     ]
    },
    {
     "ename": "TypeError",
     "evalue": "'<' not supported between instances of 'list' and 'int'",
     "traceback": [
      "\u001b[0;31m---------------------------------------------------------------------------\u001b[0m",
      "\u001b[0;31mTypeError\u001b[0m                                 Traceback (most recent call last)",
      "\u001b[0;32m<ipython-input-9-4026129b00f2>\u001b[0m in \u001b[0;36m<module>\u001b[0;34m()\u001b[0m\n\u001b[1;32m      4\u001b[0m \u001b[0mm\u001b[0m \u001b[0;34m=\u001b[0m \u001b[0;34m(\u001b[0m\u001b[0ma\u001b[0m \u001b[0;34m+\u001b[0m \u001b[0mb\u001b[0m\u001b[0;34m)\u001b[0m \u001b[0;34m/\u001b[0m \u001b[0;36m2\u001b[0m\u001b[0;34m\u001b[0m\u001b[0m\n\u001b[1;32m      5\u001b[0m \u001b[0mprint\u001b[0m\u001b[0;34m(\u001b[0m\u001b[0mm\u001b[0m\u001b[0;34m)\u001b[0m\u001b[0;34m\u001b[0m\u001b[0m\n\u001b[0;32m----> 6\u001b[0;31m \u001b[0mx\u001b[0m \u001b[0;34m<\u001b[0m \u001b[0;36m5\u001b[0m\u001b[0;34m\u001b[0m\u001b[0m\n\u001b[0m",
      "\u001b[0;31mTypeError\u001b[0m: '<' not supported between instances of 'list' and 'int'"
     ],
     "output_type": "error"
    }
   ],
   "source": [
    "  a = int(x[0])\n",
    "  b = int(x[-1])\n",
    "  print(a, b)\n",
    "  m = (a + b) / 2\n",
    "  print(m)\n",
    "  x < 5"
   ]
  },
  {
   "cell_type": "code",
   "execution_count": 0,
   "metadata": {
    "id": "i_qSRq4x-u_v",
    "colab_type": "code",
    "colab": {}
   },
   "outputs": [],
   "source": [
    ""
   ]
  }
 ],
 "metadata": {
  "colab": {
   "name": "Multivariate Analysis",
   "version": "0.3.2",
   "provenance": []
  },
  "kernelspec": {
   "name": "python3",
   "display_name": "Python 3"
  }
 },
 "nbformat": 4,
 "nbformat_minor": 0
}
